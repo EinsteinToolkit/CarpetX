{
 "cells": [
  {
   "cell_type": "markdown",
   "metadata": {},
   "source": [
    "**Instructions:** replace the string in the second cell, and execute each cell (to execute a cell, hit `Shift+Enter`)"
   ]
  },
  {
   "cell_type": "code",
   "execution_count": null,
   "metadata": {
    "collapsed": false
   },
   "outputs": [],
   "source": [
    "import numpy as np\n",
    "%matplotlib notebook\n",
    "# or `%matplotlib inline` for non-interactive plots\n",
    "# or `%matplotlib widget` when using JupyterLab (github.com/matplotlib/jupyter-matplotlib)\n",
    "import matplotlib.pyplot as plt\n",
    "from openpmd_viewer import OpenPMDTimeSeries"
   ]
  },
  {
   "cell_type": "code",
   "execution_count": null,
   "metadata": {
    "collapsed": false
   },
   "outputs": [],
   "source": [
    "# Replace the string below, to point to your data\n",
    "ts = OpenPMDTimeSeries('./diags/hdf5/')"
   ]
  },
  {
   "cell_type": "code",
   "execution_count": null,
   "metadata": {
    "collapsed": false
   },
   "outputs": [],
   "source": [
    "# Interactive GUI\n",
    "ts.slider()"
   ]
  }
 ],
 "metadata": {
  "kernelspec": {
   "display_name": "Python 3",
   "language": "python",
   "name": "python3"
  },
  "language_info": {
   "codemirror_mode": {
    "name": "ipython",
    "version": 3
   },
   "file_extension": ".py",
   "mimetype": "text/x-python",
   "name": "python",
   "nbconvert_exporter": "python",
   "pygments_lexer": "ipython3",
   "version": "3.8.5"
  }
 },
 "nbformat": 4,
 "nbformat_minor": 2
}
